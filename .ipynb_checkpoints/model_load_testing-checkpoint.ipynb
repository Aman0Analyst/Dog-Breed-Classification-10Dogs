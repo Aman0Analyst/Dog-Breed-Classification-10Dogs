{
 "cells": [
  {
   "cell_type": "code",
   "execution_count": 10,
   "id": "loving-terrorist",
   "metadata": {},
   "outputs": [],
   "source": [
    "from tensorflow.keras.models import load_model\n",
    "import numpy as np"
   ]
  },
  {
   "cell_type": "code",
   "execution_count": 2,
   "id": "straight-myanmar",
   "metadata": {},
   "outputs": [],
   "source": [
    "Model = load_model('Resnet50_10dogs.h5')"
   ]
  },
  {
   "cell_type": "code",
   "execution_count": 3,
   "id": "detected-horror",
   "metadata": {},
   "outputs": [],
   "source": [
    "def preprocess_image(path):\n",
    "    from tensorflow.keras.applications.resnet import preprocess_input\n",
    "    from tensorflow.keras.preprocessing.image import load_img,img_to_array\n",
    "    import numpy as np\n",
    "\n",
    "    image = load_img(path,target_size=(299,299,1))\n",
    "    image = img_to_array(image)\n",
    "    image = np.expand_dims(image,axis = 0)\n",
    "    image = preprocess_input(image)\n",
    "    return image"
   ]
  },
  {
   "cell_type": "code",
   "execution_count": 4,
   "id": "developmental-joseph",
   "metadata": {},
   "outputs": [],
   "source": [
    "path = 'data/validation/scottish_deerhound/d48a8aa150e8ec0f97868af26bcc0a93.jpg'"
   ]
  },
  {
   "cell_type": "code",
   "execution_count": 8,
   "id": "dimensional-potential",
   "metadata": {},
   "outputs": [],
   "source": [
    "Label_map = {0: 'beagle',\n",
    "             1: 'chihuahua',\n",
    "             2: 'doberman',\n",
    "             3: 'french_bulldog',\n",
    "             4: 'golden_retriever',\n",
    "             5: 'malamute',\n",
    "             6: 'pug',\n",
    "             7: 'saint_bernard',\n",
    "             8: 'scottish_deerhound',\n",
    "             9: 'tibetan_mastiff'}"
   ]
  },
  {
   "cell_type": "code",
   "execution_count": 26,
   "id": "official-cologne",
   "metadata": {},
   "outputs": [],
   "source": [
    "predictions = Model.predict(preprocess_image(path)).ravel()"
   ]
  },
  {
   "cell_type": "code",
   "execution_count": 27,
   "id": "sound-competition",
   "metadata": {},
   "outputs": [
    {
     "data": {
      "text/plain": [
       "(10,)"
      ]
     },
     "execution_count": 27,
     "metadata": {},
     "output_type": "execute_result"
    }
   ],
   "source": [
    "predictions.shape"
   ]
  },
  {
   "cell_type": "code",
   "execution_count": 28,
   "id": "exterior-brunswick",
   "metadata": {},
   "outputs": [],
   "source": [
    "Dog_breed = Label_map[np.argmax(predictions)]\n",
    "confidence = predictions[np.argmax(predictions)]"
   ]
  },
  {
   "cell_type": "code",
   "execution_count": 30,
   "id": "informal-relative",
   "metadata": {},
   "outputs": [
    {
     "name": "stdout",
     "output_type": "stream",
     "text": [
      "Dog_breed : scottish_deerhound, Confidence : 0.8048362135887146\n"
     ]
    }
   ],
   "source": [
    "print(f\"Dog_breed : {Dog_breed}, Confidence : {confidence}\")"
   ]
  }
 ],
 "metadata": {
  "kernelspec": {
   "display_name": "Python 3",
   "language": "python",
   "name": "python3"
  },
  "language_info": {
   "codemirror_mode": {
    "name": "ipython",
    "version": 3
   },
   "file_extension": ".py",
   "mimetype": "text/x-python",
   "name": "python",
   "nbconvert_exporter": "python",
   "pygments_lexer": "ipython3",
   "version": "3.8.5"
  }
 },
 "nbformat": 4,
 "nbformat_minor": 5
}
